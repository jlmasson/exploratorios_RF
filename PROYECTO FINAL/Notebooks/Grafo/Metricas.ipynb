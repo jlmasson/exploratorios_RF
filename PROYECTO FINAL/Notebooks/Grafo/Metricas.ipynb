{
 "cells": [
  {
   "cell_type": "markdown",
   "metadata": {},
   "source": [
    "# <font color='#0489B1'> __MÉTRICAS DEL GRAFO__ </font>"
   ]
  },
  {
   "cell_type": "markdown",
   "metadata": {},
   "source": [
    "Para el estudio del grafo se analizaron diversas métricas, recordando que existe un grafo por cada lugar importante de nuestro estudio:"
   ]
  },
  {
   "cell_type": "markdown",
   "metadata": {},
   "source": [
    " "
   ]
  },
  {
   "cell_type": "markdown",
   "metadata": {},
   "source": [
    "# <font color='green'> __Metricas a los Nodos(mac_usr)__ </font>"
   ]
  },
  {
   "cell_type": "markdown",
   "metadata": {},
   "source": [
    "## <font color='#B40431'>__ Degree__</font>"
   ]
  },
  {
   "cell_type": "markdown",
   "metadata": {},
   "source": [
    "- Este valor se lo asocia a cada nodo(mac_usr) de nuestro grafo de lugar.\n",
    "- Nos muestra la cantidad de relaciones(arcos) tiene en el grafo correspondiente.\n",
    "- En este analísis se incluyen las relaciones debiles.\n",
    "- Como el grafo es no dirigido se lo puede determinar de la siguiente forma:\n",
    "  - <font color = \"blue\">__count(__</font>in_Edges<font color = \"blue\">__) __</font>"
   ]
  },
  {
   "cell_type": "markdown",
   "metadata": {},
   "source": [
    "## <font color='#B40431'>__ Hard Degree__</font>"
   ]
  },
  {
   "cell_type": "markdown",
   "metadata": {},
   "source": [
    "- Este valor se lo asocia a cada nodo(mac_usr) de nuestro grafo de lugar.\n",
    "- Nos muestra la cantidad de relaciones(arcos) tiene en el grafo correspondiente.\n",
    "- En este analísis se excluyen las relaciones debiles es decir las que tiene un peso menor o igual a 5.\n",
    "  - <font color = \"blue\">__count(__</font>in_HardEdges<font color = \"blue\">__) __</font>"
   ]
  },
  {
   "cell_type": "markdown",
   "metadata": {},
   "source": [
    "## <font color='#B40431'>__ Weight Average__</font>"
   ]
  },
  {
   "cell_type": "markdown",
   "metadata": {},
   "source": [
    "- Este valor se lo asocia a cada nodo(mac_usr) de nuestro grafo de lugar.\n",
    "- Nos muestra el valor promedio del peso de todos los arcos relacionados a ese nodo(mac_usr)\n",
    "- En este analísis se incluyen las relaciones debiles.\n",
    "- Como el grafo es no dirigido se lo puede determinar de la siguiente forma:\n",
    "  - <font color = \"blue\">__sum(__</font>Weight_in_edges<font color = \"blue\">__)/count(__</font>in_Edges<font color = \"blue\">__)__</font>\n",
    "- Al no eliminar el ruido de las conexiones debiles la mayoria tienen a valores cercanos a 1."
   ]
  },
  {
   "cell_type": "markdown",
   "metadata": {},
   "source": [
    "## <font color='#B40431'>__ Hard Weight Average__</font>"
   ]
  },
  {
   "cell_type": "markdown",
   "metadata": {},
   "source": [
    "- Este valor se lo asocia a cada nodo(mac_usr) de nuestro grafo de lugar.\n",
    "- Nos muestra el valor promedio del peso de todos los arcos relacionados a ese nodo(mac_usr)\n",
    "- En este analísis se excluyen las relaciones debiles es decir las menores o iguales a 5.\n",
    "- Como el grafo es no dirigido se lo puede determinar de la siguiente forma:\n",
    "  - <font color = \"blue\">__sum(__</font>Weight_in_hard_edges<font color = \"blue\">__)/count(__</font>in_hard_edges<font color = \"blue\">__)__</font>\n",
    "- Al eliminar el ruido de las conexiones debiles esta metrica mejoro considerablemente."
   ]
  },
  {
   "cell_type": "markdown",
   "metadata": {},
   "source": [
    "## <font color='#B40431'>__ Min Weight __</font>"
   ]
  },
  {
   "cell_type": "markdown",
   "metadata": {},
   "source": [
    "- Este valor se lo asocia a cada nodo(mac_usr) de nuestro grafo de lugar.\n",
    "- Nos muestra el menor del peso de todos los arcos relacionados a ese nodo(mac_usr) es decir el valor de su relacion(es) más debil(es)\n",
    "- En este analísis se incluyen las relaciones debiles.\n",
    "- Como el grafo es no dirigido se lo puede determinar de la siguiente forma:\n",
    "  - <font color = \"blue\">__min(__</font>Weights_in_edges<font color = \"blue\">__)__</font>\n",
    "- Al no eliminar el ruido de las conexiones debiles la mayoria tienen el valor de 1."
   ]
  },
  {
   "cell_type": "markdown",
   "metadata": {},
   "source": [
    "## <font color='#B40431'>__ Hard Min Weight __</font>"
   ]
  },
  {
   "cell_type": "markdown",
   "metadata": {},
   "source": [
    "- Este valor se lo asocia a cada nodo(mac_usr) de nuestro grafo de lugar.\n",
    "- Nos muestra el menor del peso de todos los arcos relacionados a ese nodo(mac_usr) es decir el valor de su relacion(es) más debil(es)\n",
    "- En este analísis se excluyen las relaciones debiles es decir las menores o iguales a 5.\n",
    "- Como el grafo es no dirigido se lo puede determinar de la siguiente forma:\n",
    "  - <font color = \"blue\">__min(__</font>Weights_in_hard_edges<font color = \"blue\">__)__</font>\n",
    "- Al eliminar el ruido de las conexiones debiles esta metrica mejoro considerablemente."
   ]
  },
  {
   "cell_type": "markdown",
   "metadata": {},
   "source": [
    "## <font color='#B40431'>__ Max Weight __</font>"
   ]
  },
  {
   "cell_type": "markdown",
   "metadata": {},
   "source": [
    "- Este valor se lo asocia a cada nodo(mac_usr) de nuestro grafo de lugar.\n",
    "- Nos muestra el mayor del peso de todos los arcos relacionados a ese nodo(mac_usr) es decir el valor de su relacion(es) más fuerte(es).\n",
    "- En este analísis se incluyen las relaciones debiles.\n",
    "- Como el grafo es no dirigido se lo puede determinar de la siguiente forma:\n",
    "  - <font color = \"blue\">__max(__</font>Weights_in_edges<font color = \"blue\">__)__</font>\n",
    "- En esta metríca no es de importancia eliminar o no el ruido."
   ]
  },
  {
   "cell_type": "markdown",
   "metadata": {},
   "source": [
    "## <font color='#B40431'>__ # of Conections __</font>"
   ]
  },
  {
   "cell_type": "markdown",
   "metadata": {},
   "source": [
    "- Este valor se lo asocia a cada nodo(mac_usr) de nuestro grafo de lugar.\n",
    "- Nos muestra la cantidad de conexiones totales del usuario en el dataset.\n",
    "- Se aprovecha el dataframe de conexiones para calcular el valor\n",
    "- Para encontrar el valor se recurrio a.\n",
    "  - <font color = \"blue\">__count(__</font>user_conections_in_graph_place<font color = \"blue\">__) __</font>\n",
    "- Se la encontro para realizar un analisis comparativo entre las parejas de usuarios."
   ]
  },
  {
   "cell_type": "markdown",
   "metadata": {},
   "source": [
    "## <font color='#B40431'>__ Average Day Conections__</font>"
   ]
  },
  {
   "cell_type": "markdown",
   "metadata": {},
   "source": [
    "- Este valor se lo asocia a cada nodo(mac_usr) de nuestro grafo de lugar.\n",
    "- Nos muestra la cantidad promedio de conexiones totales por dia del usuario en el dataset.\n",
    "- Se aprovecha el dataframe de conexiones para calcular el valor\n",
    "- Para encontrar el valor se recurrio a.\n",
    "  - <font color = \"blue\">__avg(count(__</font>user_day_conections_in_graph_place<font color = \"blue\">__)) __</font>\n",
    "- Se la encontro para realizar un analisis comparativo entre las parejas de usuarios."
   ]
  },
  {
   "cell_type": "markdown",
   "metadata": {},
   "source": [
    "## <font color='#B40431'>__ Favorite Day(L-M-M-J-V-S-D) __ y __# of Conection in Favorite Day__</font>"
   ]
  },
  {
   "cell_type": "markdown",
   "metadata": {},
   "source": [
    "- Este valor se lo asocia a cada nodo(mac_usr) de nuestro grafo de lugar.\n",
    "- Nos muestra el día de la semana en el que el usuario realizo su mayor cantidad de conexiones y la cantidad de conexiones.\n",
    "- Se aprovecha el dataframe de conexiones para calcular el valor\n",
    "- Para encontrar el valor se recurrio a.\n",
    "  - <font> # of conections in fav day <-- </font><font color = \"blue\">__max(count(__</font>user_day_of_week_conections_in_graph_place<font color = \"blue\">__)) __</font>\n",
    "  - <font> fav day <-- </font><font color='blue'>__ findDay(  __</font> # of conections in fav day<font color =\"blue\">__)__</font>\n",
    "- Se la encontro para realizar un analisis comparativo entre las parejas de usuarios."
   ]
  },
  {
   "cell_type": "markdown",
   "metadata": {},
   "source": [
    " "
   ]
  },
  {
   "cell_type": "markdown",
   "metadata": {},
   "source": [
    "# <font color='green'> __Metricas de Parejas(lugar)__ </font>"
   ]
  },
  {
   "cell_type": "markdown",
   "metadata": {},
   "source": [
    "## <font color='#B40431'>__ Couple Weight__</font>"
   ]
  },
  {
   "cell_type": "markdown",
   "metadata": {},
   "source": [
    "- Este valor se lo asocia a cada arco(mac_usr1, mac_usr2) de nuestro grafo de lugar.\n",
    "- Nos indica la fortaleza de su relacion."
   ]
  },
  {
   "cell_type": "markdown",
   "metadata": {},
   "source": [
    "## <font color='#B40431'>__ Diversity__</font>"
   ]
  },
  {
   "cell_type": "markdown",
   "metadata": {},
   "source": [
    "- Este valor se lo asocia a cada arco(mac_usr1, mac_usr2) de nuestro grafo de lugar.\n",
    "- Nos indica la cantidad de lugares en los que aparecen."
   ]
  },
  {
   "cell_type": "markdown",
   "metadata": {},
   "source": [
    "# <font color='green'> __Metricas al Grafo en general(lugar)__ </font>"
   ]
  },
  {
   "cell_type": "markdown",
   "metadata": {},
   "source": [
    "## <font color='#B40431'>__ Degree Average__</font>"
   ]
  },
  {
   "cell_type": "markdown",
   "metadata": {},
   "source": [
    "- Este valor se lo asocia a cada grafo(lugar) de nuestro dataframe.\n",
    "- Nos muestra el valor promedio de todos lo degree por nodo existente en el grafo\n",
    "- En este analísis se incluyen las relaciones debiles.\n",
    "- Como el grafo es no dirigido se lo puede determinar de la siguiente forma:\n",
    "  - <font color = \"blue\">__sum(count(__</font>in_edges_of_node<font color = \"blue\">__))/count(__</font>Nodes<font color = \"blue\">__)__</font>"
   ]
  },
  {
   "cell_type": "markdown",
   "metadata": {},
   "source": [
    "## <font color='#B40431'>__ Hard Degree Average__</font>"
   ]
  },
  {
   "cell_type": "markdown",
   "metadata": {},
   "source": [
    "- Este valor se lo asocia a cada grafo(lugar) de nuestro dataframe.\n",
    "- Nos muestra el valor promedio de todos los degree por nodo existente en el grafo\n",
    "- En este analísis se excluyen las relaciones debiles es decir las menores o iguales a 5.\n",
    "- Como el grafo es no dirigido se lo puede determinar de la siguiente forma:\n",
    "  - <font color = \"blue\">__sum(count(__</font>in_hard_edges_of_node<font color = \"blue\">__))/count(__</font>Nodes<font color = \"blue\">__)__</font>"
   ]
  },
  {
   "cell_type": "markdown",
   "metadata": {},
   "source": [
    "## <font color='#B40431'>__ Min Degree __</font>"
   ]
  },
  {
   "cell_type": "markdown",
   "metadata": {},
   "source": [
    "- Este valor se lo asocia a cada grafo(lugar) de nuestro dataframe.\n",
    "- Nos muestra el menor valor de degree de todos los promedios de degree por nodo existente en el grafo\n",
    "- En este analísis se incluyen las relaciones debiles.\n",
    "- Como el grafo es no dirigido se lo puede determinar de la siguiente forma:\n",
    "  - <font color = \"blue\">__min(count(__</font>in_edges_of_node<font color = \"blue\">__))__</font>"
   ]
  },
  {
   "cell_type": "markdown",
   "metadata": {},
   "source": [
    "## <font color='#B40431'>__ Hard Min Degree __</font>"
   ]
  },
  {
   "cell_type": "markdown",
   "metadata": {},
   "source": [
    "- Este valor se lo asocia a cada grafo(lugar) de nuestro dataframe.\n",
    "- Nos muestra el menor valor de degree de todos los degree por nodo existente en el grafo\n",
    "- En este analísis se excluyen las relaciones debiles es decir las menores o iguales a 5.\n",
    "- Como el grafo es no dirigido se lo puede determinar de la siguiente forma:\n",
    "  - <font color = \"blue\">__min(count(__</font>in_hard_edges_of_node<font color = \"blue\">__))__</font>"
   ]
  },
  {
   "cell_type": "markdown",
   "metadata": {},
   "source": [
    "## <font color='#B40431'>__ Max Degree __</font>"
   ]
  },
  {
   "cell_type": "markdown",
   "metadata": {},
   "source": [
    "- Este valor se lo asocia a cada grafo(lugar) de nuestro dataframe.\n",
    "- Nos muestra el mayor valor de degree de todos los promedios de degree por nodo existente en el grafo\n",
    "- En este analísis se incluyen las relaciones debiles.\n",
    "- Como el grafo es no dirigido se lo puede determinar de la siguiente forma:\n",
    "  - <font color = \"blue\">__max(count(__</font>in_edges_of_node<font color = \"blue\">__))__</font>"
   ]
  },
  {
   "cell_type": "markdown",
   "metadata": {},
   "source": [
    "## <font color='#B40431'>__ Hard Max Degree __</font>"
   ]
  },
  {
   "cell_type": "markdown",
   "metadata": {},
   "source": [
    "- Este valor se lo asocia a cada grafo(lugar) de nuestro dataframe.\n",
    "- Nos muestra el mayor valor de degree de todos los degree por nodo existente en el grafo\n",
    "- En este analísis se excluyen las relaciones debiles es decir las menores o iguales a 5.\n",
    "- Como el grafo es no dirigido se lo puede determinar de la siguiente forma:\n",
    "  - <font color = \"blue\">__max(count(__</font>in_hard_edges_of_node<font color = \"blue\">__))__</font>"
   ]
  },
  {
   "cell_type": "markdown",
   "metadata": {},
   "source": [
    "## <font color='#B40431'>__ Weight Average__</font>"
   ]
  },
  {
   "cell_type": "markdown",
   "metadata": {},
   "source": [
    "- Este valor se lo asocia a cada grafo(lugar) de nuestro dataframe.\n",
    "- Nos muestra el valor promedio del peso de todos los arcos existentes en el grafo\n",
    "- En este analísis se incluyen las relaciones debiles.\n",
    "- Como el grafo es no dirigido se lo puede determinar de la siguiente forma:\n",
    "  - <font color = \"blue\">__sum(__</font>Weight_edges<font color = \"blue\">__)/count(__</font>Edges<font color = \"blue\">__)__</font>\n",
    "- Al no eliminar el ruido de las conexiones debiles la metrica tomo valores cercanos a 1."
   ]
  },
  {
   "cell_type": "markdown",
   "metadata": {},
   "source": [
    "## <font color='#B40431'>__ Hard Weight Average__</font>"
   ]
  },
  {
   "cell_type": "markdown",
   "metadata": {},
   "source": [
    "- Este valor se lo asocia a cada grafo(lugar) de nuestro dataframe.\n",
    "- Nos muestra el valor promedio del peso de todos los arcos existentes en el grafo\n",
    "- En este analísis se excluyen las relaciones debiles es decir las menores o iguales a 5.\n",
    "- Como el grafo es no dirigido se lo puede determinar de la siguiente forma:\n",
    "  - <font color = \"blue\">__sum(__</font>Weight_hard_edges<font color = \"blue\">__)/count(__</font>hard_edges<font color = \"blue\">__)__</font>\n",
    "- Al eliminar el ruido de las conexiones debiles esta metrica mejoro considerablemente."
   ]
  },
  {
   "cell_type": "markdown",
   "metadata": {},
   "source": [
    "## <font color='#B40431'>__ Min Weight __</font>"
   ]
  },
  {
   "cell_type": "markdown",
   "metadata": {},
   "source": [
    "- Este valor se lo asocia a cada grafo(lugar) de nuestro dataframe.\n",
    "- Nos muestra el menor del peso de todos los arcos existentes es decir el valor de la(s) relacion(es) más debil(es)\n",
    "- En este analísis se incluyen las relaciones debiles.\n",
    "- Como el grafo es no dirigido se lo puede determinar de la siguiente forma:\n",
    "  - <font color = \"blue\">__min(__</font>Weights_edges<font color = \"blue\">__)__</font>\n",
    "- Al no eliminar el ruido de las conexiones debiles todas tienen el valor de 1."
   ]
  },
  {
   "cell_type": "markdown",
   "metadata": {},
   "source": [
    "## <font color='#B40431'>__ Hard Min Weight __</font>"
   ]
  },
  {
   "cell_type": "markdown",
   "metadata": {},
   "source": [
    "- Este valor se lo asocia a cada grafo(lugar) de nuestro dataframe.\n",
    "- Nos muestra el menor del peso de todos los arcos existentes es decir el valor de la(s) relacion(es) más debil(es)\n",
    "- En este analísis se excluyen las relaciones debiles es decir las menores o iguales a 5.\n",
    "- Como el grafo es no dirigido se lo puede determinar de la siguiente forma:\n",
    "  - <font color = \"blue\">__min(__</font>Weights_hard_edges<font color = \"blue\">__)__</font>\n",
    "- Al eliminar el ruido de las conexiones debiles esta metrica cambio su valor a 6 o valores cercanos superiores."
   ]
  },
  {
   "cell_type": "markdown",
   "metadata": {},
   "source": [
    "## <font color='#B40431'>__ Max Weight __</font>"
   ]
  },
  {
   "cell_type": "markdown",
   "metadata": {},
   "source": [
    "- Este valor se lo asocia a cada grafo(lugar) de nuestro dataframe.\n",
    "- Nos muestra el mayor del peso de todos los arcos existentes es decir el valor de la(s) relacion(es) más fuerte(es).\n",
    "- En este analísis se incluyen las relaciones debiles.\n",
    "- Como el grafo es no dirigido se lo puede determinar de la siguiente forma:\n",
    "  - <font color = \"blue\">__max(__</font>Weights_edges<font color = \"blue\">__)__</font>\n",
    "- En esta metríca no es de importancia eliminar o no el ruido."
   ]
  },
  {
   "cell_type": "markdown",
   "metadata": {},
   "source": [
    "## <font color='#B40431'>__ Top Users __</font>"
   ]
  },
  {
   "cell_type": "markdown",
   "metadata": {},
   "source": [
    "- Este valor se lo asocia a cada grafo(lugar) de nuestro dataframe.\n",
    "- Se encuentran los mejores usuarios basados en el degree y los pesos de los arcos que crean."
   ]
  },
  {
   "cell_type": "markdown",
   "metadata": {},
   "source": [
    "## <font color='#B40431'>__ Top Couples __</font>"
   ]
  },
  {
   "cell_type": "markdown",
   "metadata": {},
   "source": [
    "- Este valor se lo asocia a cada grafo(lugar) de nuestro dataframe.\n",
    "- Se encuentran las mejores parejas del lugar en base a los pesos."
   ]
  },
  {
   "cell_type": "code",
   "execution_count": null,
   "metadata": {
    "collapsed": true
   },
   "outputs": [],
   "source": []
  }
 ],
 "metadata": {
  "kernelspec": {
   "display_name": "Python 2",
   "language": "python",
   "name": "python2"
  },
  "language_info": {
   "codemirror_mode": {
    "name": "ipython",
    "version": 2
   },
   "file_extension": ".py",
   "mimetype": "text/x-python",
   "name": "python",
   "nbconvert_exporter": "python",
   "pygments_lexer": "ipython2",
   "version": "2.7.13"
  }
 },
 "nbformat": 4,
 "nbformat_minor": 2
}
