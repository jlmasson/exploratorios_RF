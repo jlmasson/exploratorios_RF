{
 "cells": [
  {
   "cell_type": "code",
   "execution_count": 2,
   "metadata": {
    "collapsed": true
   },
   "outputs": [],
   "source": [
    "import networkx as nx\n",
    "import matplotlib.pyplot as plt\n",
    "import pandas as pd"
   ]
  },
  {
   "cell_type": "code",
   "execution_count": 3,
   "metadata": {
    "scrolled": true
   },
   "outputs": [],
   "source": [
    "data = pd.read_csv('datasets/aeropuertoPeso2.csv', index_col=False, sep=',')"
   ]
  },
  {
   "cell_type": "code",
   "execution_count": 16,
   "metadata": {
    "collapsed": true
   },
   "outputs": [
    {
     "data": {
      "text/plain": [
       "0               1\n",
       "1               2\n",
       "3               4\n",
       "4               6\n",
       "10             12\n",
       "12             14\n",
       "20              5\n",
       "48              7\n",
       "51             11\n",
       "53             13\n",
       "56             16\n",
       "57             17\n",
       "58             18\n",
       "60             20\n",
       "61              8\n",
       "71             19\n",
       "73             10\n",
       "78             15\n",
       "139            21\n",
       "145            28\n",
       "152            23\n",
       "153            24\n",
       "154            22\n",
       "155            26\n",
       "159            30\n",
       "160            31\n",
       "162            33\n",
       "186            25\n",
       "203            29\n",
       "206            27\n",
       "            ...  \n",
       "3868900    133017\n",
       "3868926    133019\n",
       "3869070    133027\n",
       "3869146    133045\n",
       "3869189    133052\n",
       "3869294    133062\n",
       "3869340    133076\n",
       "3869441    133079\n",
       "3870259    133115\n",
       "3870388    133117\n",
       "3870454    133122\n",
       "3870687    133141\n",
       "3870941    133148\n",
       "3871181    133157\n",
       "3871680    133187\n",
       "3871885    133196\n",
       "3872252    133201\n",
       "3872332    133208\n",
       "3872436    133224\n",
       "3873264    133262\n",
       "3873409    133274\n",
       "3874216    133301\n",
       "3874251    133303\n",
       "3874587    133322\n",
       "3874759    133330\n",
       "3875269    133356\n",
       "3876074    133400\n",
       "3877131    133425\n",
       "3877808    133447\n",
       "3881098    133515\n",
       "Length: 133518, dtype: int64"
      ]
     },
     "execution_count": 16,
     "metadata": {},
     "output_type": "execute_result"
    }
   ],
   "source": [
    "macs = pd.concat([data['Mac1'],data['Mac2']]).drop_duplicates()\n",
    "macs"
   ]
  },
  {
   "cell_type": "code",
   "execution_count": 5,
   "metadata": {},
   "outputs": [],
   "source": [
    "real = nx.Graph()\n",
    "\n",
    "elist = [tuple(x) for x in data.to_records(index=False)]\n",
    "real.add_weighted_edges_from(elist)"
   ]
  },
  {
   "cell_type": "code",
   "execution_count": 6,
   "metadata": {},
   "outputs": [
    {
     "data": {
      "text/plain": [
       "0.7894249679728981"
      ]
     },
     "execution_count": 6,
     "metadata": {},
     "output_type": "execute_result"
    }
   ],
   "source": [
    "c_real = nx.average_clustering(real) # Calculo del coeficiente de clustering promedio\n",
    "c_real"
   ]
  },
  {
   "cell_type": "markdown",
   "metadata": {},
   "source": []
  },
  {
   "cell_type": "code",
   "execution_count": 7,
   "metadata": {},
   "outputs": [
    {
     "data": {
      "text/plain": [
       "0.00011763959617832431"
      ]
     },
     "execution_count": 7,
     "metadata": {},
     "output_type": "execute_result"
    }
   ],
   "source": [
    "nodes = 133518 # Numero de nodos segun indica el paper.\n",
    "posiblesArcos = 0.5 * nodes * (nodes-1)\n",
    "promedio = 1048576/posiblesArcos #Probabilidad para la creacion de un arco\n",
    "\n"
   ]
  },
  {
   "cell_type": "code",
   "execution_count": null,
   "metadata": {
    "collapsed": true
   },
   "outputs": [],
   "source": [
    "graph = nx.gnp_random_graph(nodes, promedio, seed=2000, directed=False)\n"
   ]
  },
  {
   "cell_type": "code",
   "execution_count": 4,
   "metadata": {},
   "outputs": [
    {
     "data": {
      "text/plain": [
       "0.00013160641335709718"
      ]
     },
     "execution_count": 4,
     "metadata": {},
     "output_type": "execute_result"
    }
   ],
   "source": [
    "c_aleatorio = nx.average_clustering(graph) # Calculo del coeficiente de clustering promedio\n",
    "c_aleatorio"
   ]
  },
  {
   "cell_type": "markdown",
   "metadata": {},
   "source": [
    "El bajo coefiente de clustering obtenido es esperado debido a que estamos trabajando con un grafo generado de manera aleatoria."
   ]
  },
  {
   "cell_type": "code",
   "execution_count": null,
   "metadata": {
    "collapsed": true
   },
   "outputs": [],
   "source": []
  },
  {
   "cell_type": "code",
   "execution_count": null,
   "metadata": {
    "collapsed": true
   },
   "outputs": [],
   "source": []
  }
 ],
 "metadata": {
  "kernelspec": {
   "display_name": "Python 3",
   "language": "python",
   "name": "python3"
  },
  "language_info": {
   "codemirror_mode": {
    "name": "ipython",
    "version": 3
   },
   "file_extension": ".py",
   "mimetype": "text/x-python",
   "name": "python",
   "nbconvert_exporter": "python",
   "pygments_lexer": "ipython3",
   "version": "3.6.1"
  }
 },
 "nbformat": 4,
 "nbformat_minor": 2
}
