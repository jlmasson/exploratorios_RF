{
 "cells": [
  {
   "cell_type": "markdown",
   "metadata": {},
   "source": [
    "# Creacion de Csv de Nodos para el grafo de recurrencia."
   ]
  },
  {
   "cell_type": "markdown",
   "metadata": {},
   "source": [
    "## Importanciones"
   ]
  },
  {
   "cell_type": "code",
   "execution_count": null,
   "metadata": {
    "collapsed": true
   },
   "outputs": [],
   "source": [
    "import pandas as pd"
   ]
  },
  {
   "cell_type": "markdown",
   "metadata": {},
   "source": [
    "  \n",
    " "
   ]
  },
  {
   "cell_type": "markdown",
   "metadata": {},
   "source": [
    "## Carga del Dataset "
   ]
  },
  {
   "cell_type": "markdown",
   "metadata": {},
   "source": [
    "En esta parte cargamos los datasets y añadimos las columnas extras necesarias:\n",
    "  - conexiones --> dataset_final.csv\n",
    "  - sitios --> ma_sitios.csv  --> Añadir columna de ubicacion basada en su latitud y longitud"
   ]
  },
  {
   "cell_type": "markdown",
   "metadata": {},
   "source": [
    "###    Conexiones(Carga y Procesamiento)"
   ]
  },
  {
   "cell_type": "code",
   "execution_count": null,
   "metadata": {},
   "outputs": [],
   "source": [
    "conexiones = pd.DataFrame.from_csv(\"dataset_final.csv\", sep = \",\")\n",
    "conexiones.head(3)"
   ]
  },
  {
   "cell_type": "code",
   "execution_count": null,
   "metadata": {},
   "outputs": [],
   "source": [
    "#conexiones[\"datetime\"] = pd.to_datetime(conexiones[\"datetime\"])\n",
    "conexiones2 = conexiones[[\"datetime\", \"mac_usr\", \"sitio_id\"]]\n",
    "conexiones2.head(3)"
   ]
  },
  {
   "cell_type": "markdown",
   "metadata": {},
   "source": [
    "###  Truncar hora al valor de 15 mins más bajo"
   ]
  },
  {
   "cell_type": "code",
   "execution_count": null,
   "metadata": {
    "collapsed": true
   },
   "outputs": [],
   "source": [
    "def truncarFecha(fecha):\n",
    "    dia,time = fecha.split(\" \")\n",
    "    hora,minuto,segundo = time.split(\":\")\n",
    "    aux = {0: \"00\", 1: \"10\", 2: \"20\", 3:\"30\", 4:\"40\", 5:\"50\"}\n",
    "    minuto2 = aux[int(minuto)//10]\n",
    "    return dia + \" \" + hora +\":\"+ minuto2 + \":00\"\n"
   ]
  },
  {
   "cell_type": "code",
   "execution_count": null,
   "metadata": {},
   "outputs": [],
   "source": [
    "conexiones2[\"datetime\"] = pd.to_datetime(conexiones2[\"datetime\"].apply(lambda fecha: truncarFecha(fecha)))\n",
    "conexiones2.head()"
   ]
  },
  {
   "cell_type": "markdown",
   "metadata": {},
   "source": [
    "## Carga y procesamiento de sitios"
   ]
  },
  {
   "cell_type": "code",
   "execution_count": null,
   "metadata": {},
   "outputs": [],
   "source": [
    "sitios = pd.DataFrame.from_csv(\"ma_sitios2.csv\", sep = \",\").reset_index()\n",
    "sitios.head(3)"
   ]
  },
  {
   "cell_type": "code",
   "execution_count": null,
   "metadata": {
    "collapsed": true
   },
   "outputs": [],
   "source": [
    "places =[[\"Urdesa\", [[-79.915581,-2.178119], [-79.901204,-2.146938]]],\n",
    "             [\"MallSur\", [[-79.902062,-2.232042], [-79.894681,-2.226038]]],\n",
    "             [\"CityMall\", [[-79.912663,-2.143936], [-79.905968,-2.137932]]],\n",
    "             [\"AlbanBorja\", [[-79.918242,-2.170096], [-79.915066,-2.167523]]],\n",
    "             [\"Samborondon\", [[-79.874897,-2.160447], [-79.852066,-2.116704]]],\n",
    "             [\"Aeropuerto\", [[-79.886227,-2.152728], [-79.880562,-2.146338]]],\n",
    "             [\"Penias\", [[-79.8776014239,-2.1855487464], [-79.873009,-2.175392]]],\n",
    "             [\"Quito\", [[-78.586922,-0.395161], [-78.274155,0.021973]]],\n",
    "             [\"CentroConvenciones\", [[-79.893479,-2.161755], [-79.883652,-2.154894]]],\n",
    "             [\"HiltonColon\", [[-79.8998951912,-2.160929558], [-79.8962903023,-2.1576274229]]],\n",
    "             [\"MallSol\", [[-79.8954641819,-2.157053837], [-79.8891341686,-2.1539258197]]],\n",
    "             [\"UniversidadGuayaquil\", [[-79.9008607864,-2.1847947751], [-79.8959684372,-2.1791554991]]]\n",
    "            ]"
   ]
  },
  {
   "cell_type": "code",
   "execution_count": null,
   "metadata": {
    "collapsed": true
   },
   "outputs": [],
   "source": [
    "def localizar(row, places):\n",
    "    longitud = float(row[\"longitud\"])\n",
    "    latitud = float(row[\"latitud\"])\n",
    "\n",
    "    for placeName, ubicacion in places:\n",
    "        SW, NE= ubicacion\n",
    "        if (latitud <= NE[0] and longitud <=NE[1] and latitud >= SW[0] and longitud >= SW[1]):\n",
    "            return placeName\n",
    "    return \"No ubicado\""
   ]
  },
  {
   "cell_type": "code",
   "execution_count": null,
   "metadata": {},
   "outputs": [],
   "source": [
    "sitios['localizacion'] = sitios[[\"longitud\", \"latitud\"]].apply(lambda row: localizar(row, places), axis = 1)\n",
    "sitios.head()"
   ]
  },
  {
   "cell_type": "code",
   "execution_count": null,
   "metadata": {},
   "outputs": [],
   "source": [
    "sitios2 = sitios[[\"sitio_id\", \"localizacion\"]] \n",
    "sitios2.head(3)"
   ]
  },
  {
   "cell_type": "markdown",
   "metadata": {},
   "source": [
    "# UNIENDO LOS DATAFRAMES "
   ]
  },
  {
   "cell_type": "code",
   "execution_count": null,
   "metadata": {},
   "outputs": [],
   "source": [
    "datos = pd.merge(conexiones2, sitios2, on = \"sitio_id\")\n",
    "datos.head()"
   ]
  },
  {
   "cell_type": "code",
   "execution_count": null,
   "metadata": {},
   "outputs": [],
   "source": [
    "datos2 = datos.groupby([\"localizacion\", \"datetime\"])\n",
    "macsDic = {}\n",
    "cont = 1\n",
    "archivoNodos = open(\"nodos.csv\", \"w\")\n",
    "archivoNodos.write(\"id,Mac\")\n",
    "archivo = open(\"todo.csv\", \"w\")\n",
    "archivo.write(\"Mac1,Mac2\\n\")\n",
    "lugares = {\"todo\": archivo}\n",
    "for nombre, dato in datos2:\n",
    "    if nombre[0] not in lugares:\n",
    "        lugares[nombre[0]] =open(nombre[0].lower() +\"2.csv\", \"w\")\n",
    "        lugares[nombre[0]].write(\"Mac1,Mac2\\n\")\n",
    "    aux = lugares[nombre[0]]\n",
    "    macs = list(set(list(dato[\"mac_usr\"])))\n",
    "    for i in range(len(macs)):\n",
    "        for j in range(i+1, len(macs)):\n",
    "            lista = [macs[i], macs[j]]\n",
    "            lista.sort()\n",
    "            mac1,mac2 = lista\n",
    "            if mac1 not in macsDic:\n",
    "                macsDic[mac1] = cont\n",
    "                archivoNodos.write(\"\\n\"+str(cont) + \",\" + mac1)\n",
    "                cont+=1\n",
    "                \n",
    "            if mac2 not in macsDic:\n",
    "                macsDic[mac2] = cont\n",
    "                archivoNodos.write(\"\\n\"+str(cont) + \",\" + mac2)\n",
    "                cont+=1\n",
    "            \n",
    "            mac1 = macsDic[mac1]\n",
    "            mac2 = macsDic[mac2]\n",
    "            aux.write(str(mac1) + \",\" + str(mac2) + \"\\n\")\n",
    "            archivo.write(str(mac1) + \",\" + str(mac2) + \"\\n\")\n",
    "            \n",
    "for k,v in lugares.items():\n",
    "    v.close()\n",
    "archivoNodos.close()\n",
    "\"Termino\"\n"
   ]
  },
  {
   "cell_type": "code",
   "execution_count": null,
   "metadata": {},
   "outputs": [],
   "source": [
    "for lugar in lugares:\n",
    "    arcos = pd.DataFrame.from_csv(lugar.lower() +\".csv\", sep = \",\").reset_index()\n",
    "    aux = arcos.groupby([\"Mac1\", \"Mac2\"]).size().rename(\"peso\").reset_index()\n",
    "    aux = aux.sort_values(\"peso\", ascending = False)\n",
    "    aux.to_csv(lugar.lower() +\"Peso.csv\", sep=',', index = False)\n",
    "    print(lugar)"
   ]
  },
  {
   "cell_type": "code",
   "execution_count": null,
   "metadata": {},
   "outputs": [],
   "source": [
    "conexiones = pd.DataFrame.from_csv(\"todoPeso.csv\", sep = \",\").reset_index()\n",
    "conexiones.head(10)"
   ]
  },
  {
   "cell_type": "code",
   "execution_count": null,
   "metadata": {},
   "outputs": [],
   "source": [
    "conexiones[\"peso\"].value_counts().plot"
   ]
  },
  {
   "cell_type": "code",
   "execution_count": null,
   "metadata": {
    "collapsed": true
   },
   "outputs": [],
   "source": []
  }
 ],
 "metadata": {
  "kernelspec": {
   "display_name": "Python 3",
   "language": "python",
   "name": "python3"
  },
  "language_info": {
   "codemirror_mode": {
    "name": "ipython",
    "version": 3
   },
   "file_extension": ".py",
   "mimetype": "text/x-python",
   "name": "python",
   "nbconvert_exporter": "python",
   "pygments_lexer": "ipython3",
   "version": "3.6.1"
  }
 },
 "nbformat": 4,
 "nbformat_minor": 2
}
