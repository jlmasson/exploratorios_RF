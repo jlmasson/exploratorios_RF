{
 "cells": [
  {
   "cell_type": "code",
   "execution_count": 1,
   "metadata": {
    "collapsed": true
   },
   "outputs": [],
   "source": [
    "import pandas as pd\n",
    "import csv"
   ]
  },
  {
   "cell_type": "code",
   "execution_count": 2,
   "metadata": {
    "collapsed": false
   },
   "outputs": [
    {
     "name": "stderr",
     "output_type": "stream",
     "text": [
      "Skipping line 26709: expected 10 fields, saw 11\n",
      "\n",
      "Skipping line 106567: expected 10 fields, saw 11\n",
      "\n"
     ]
    }
   ],
   "source": [
    "datos_formulario = pd.read_csv('./datos_formulario.csv', sep=';', index_col=False, error_bad_lines=False,quoting=csv.QUOTE_NONE)\n",
    "# datos_formulario = pd.read_csv('./datos_formulario.csv', sep=';', header = None, delimiter=\"\\t\", quoting=csv.QUOTE_NONE, encoding='utf-8')\n",
    "# datos_formulario"
   ]
  },
  {
   "cell_type": "code",
   "execution_count": 5,
   "metadata": {
    "collapsed": false
   },
   "outputs": [],
   "source": [
    "mac = \"2C:AE:2B:34:07:0F\"\n",
    "mac_list = [\"48:5A:3F:80:91:AA\",\"2C:AE:2B:34:07:0F\"]\n",
    "dataset_top_macs = pd.read_csv('./macs_tops_usuarios.csv', sep=',')\n",
    "lista_top_macs = dataset_top_macs.mac_usr.tolist()\n",
    "mac_list = [\"\\\"\"+el+\"\\\"\" for el in lista_top_macs]\n",
    "# datos_persona = datos_formulario[datos_formulario['\\\"mac\\\"']==\"\\\"{}\\\"\".format(mac)].groupby([\"\\\"mac\\\"\",\"\\\"pregunta\\\"\"]).head(1)\n",
    "datos_persona = datos_formulario[datos_formulario['\\\"mac\\\"'].isin(mac_list)].groupby([\"\\\"mac\\\"\",\"\\\"pregunta\\\"\"]).head(1)\n",
    "nombre_persona = datos_persona[(datos_persona[\"\\\"pregunta\\\"\"]==\"\\\"Nombre\\\"\")|(datos_persona[\"\\\"pregunta\\\"\"]==\"\\\"Apellido\\\"\")|(datos_persona[\"\\\"pregunta\\\"\"]==\"\\\"Email\\\"\")]\n",
    "nombre_persona.to_csv(\"info_top_macs.csv\")\n",
    "# dataset_top_macs.head()"
   ]
  }
 ],
 "metadata": {
  "kernelspec": {
   "display_name": "Python 2",
   "language": "python",
   "name": "python2"
  },
  "language_info": {
   "codemirror_mode": {
    "name": "ipython",
    "version": 2
   },
   "file_extension": ".py",
   "mimetype": "text/x-python",
   "name": "python",
   "nbconvert_exporter": "python",
   "pygments_lexer": "ipython2",
   "version": "2.7.12"
  }
 },
 "nbformat": 4,
 "nbformat_minor": 1
}
